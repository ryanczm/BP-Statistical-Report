{
 "cells": [
  {
   "cell_type": "markdown",
   "metadata": {},
   "source": [
    "# Gas\n",
    "\n",
    "* Gas Reserves - TN CM \n",
    "* Gas Production - BN CM\n",
    "* Gas Consumption - BN CM\n",
    "* Gas Prices - USD/MN BTU\n",
    "* Gas Import Exports - BN CM\n",
    "* LNG Exports - BN CM\n",
    "* LNG Imports - BN CM\n",
    "* Pipeline Trade Movements - BN CM"
   ]
  }
 ],
 "metadata": {
  "language_info": {
   "name": "python"
  }
 },
 "nbformat": 4,
 "nbformat_minor": 2
}
